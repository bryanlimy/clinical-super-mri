{
 "cells": [
  {
   "cell_type": "code",
   "execution_count": null,
   "metadata": {
    "id": "wArQrwZWjx7e",
    "pycharm": {
     "name": "#%%\n"
    }
   },
   "outputs": [],
   "source": [
    "import scipy.io\n",
    "import numpy as np\n",
    "from celluloid import Camera\n",
    "import matplotlib.pyplot as plt\n",
    "from IPython.display import HTML\n",
    "import matplotlib.animation as animation\n",
    "\n",
    "from supermri.utils.tensorboard import remove_spines, remove_ticks\n",
    "\n",
    "%matplotlib inline"
   ]
  },
  {
   "cell_type": "code",
   "execution_count": null,
   "metadata": {
    "pycharm": {
     "name": "#%%\n"
    }
   },
   "outputs": [],
   "source": [
    "def rotate(scan: np.ndarray):\n",
    "    \"\"\"rotate scan 90 degree to the left\"\"\"\n",
    "    assert len(scan.shape) == 4\n",
    "    # copy is needed to avoid negative strides error\n",
    "    return np.rot90(scan, k=1, axes=[1, 3]).copy()\n",
    "\n",
    "\n",
    "def load_mat(filename):\n",
    "    data = scipy.io.loadmat(filename)\n",
    "    data = np.stack([data[\"FLAIRarray\"], data[\"T1array\"], data[\"T2array\"]]).astype(\n",
    "        np.float32\n",
    "    )\n",
    "    return rotate(data)\n",
    "\n",
    "\n",
    "def animate(scan, dim=0, filename=\"mri.gif\"):\n",
    "    assert 0 <= dim < 3 and len(scan.shape) == 3\n",
    "    figure = plt.figure(figsize=(6, 6), dpi=240)\n",
    "    if dim == 0:\n",
    "        slices = [scan[i, :, :] for i in range(scan.shape[0])]\n",
    "    elif dim == 1:\n",
    "        slices = [scan[:, i, :] for i in range(scan.shape[1])]\n",
    "    else:\n",
    "        slices = [scan[:, :, i] for i in range(scan.shape[2])]\n",
    "\n",
    "    images = [\n",
    "        [plt.imshow(slices[i], cmap=\"gray\", animated=True)] for i in range(len(slices))\n",
    "    ]\n",
    "    ani = animation.ArtistAnimation(\n",
    "        figure, images, interval=50, blit=True, repeat_delay=1000\n",
    "    )\n",
    "    ani.save(filename)\n",
    "\n",
    "\n",
    "def plot(scan, index=70):\n",
    "    figure, axes = plt.subplots(\n",
    "        nrows=1,\n",
    "        ncols=3,\n",
    "        figsize=(8, 3),\n",
    "        gridspec_kw={\n",
    "            \"width_ratios\": [1, 1, 1],\n",
    "            \"wspace\": 0.25,\n",
    "        },\n",
    "        squeeze=False,\n",
    "        dpi=120,\n",
    "    )\n",
    "    figure.patch.set_facecolor(\"white\")\n",
    "    axes = axes.flatten()\n",
    "    axes[0].imshow(scan[index, :, :], cmap=\"gray\", interpolation=\"none\")\n",
    "    axes[0].set_title(f\"scan[{index}, : ,:]\")\n",
    "    axes[1].imshow(scan[:, index, :], cmap=\"gray\", interpolation=\"none\")\n",
    "    axes[1].set_title(f\"scan[:, {index} ,:]\")\n",
    "    axes[2].imshow(scan[:, :, index], cmap=\"gray\", interpolation=\"none\")\n",
    "    axes[2].set_title(f\"scan[:, : ,{index}]\")\n",
    "    plt.show()"
   ]
  },
  {
   "cell_type": "code",
   "execution_count": null,
   "metadata": {
    "colab": {
     "base_uri": "https://localhost:8080/",
     "height": 431
    },
    "id": "hy2J07iWIufd",
    "outputId": "76d2cd2a-d3fe-46e4-8022-7383f8d76c48",
    "pycharm": {
     "name": "#%%\n"
    }
   },
   "outputs": [],
   "source": [
    "merge_scan = load_mat(\"../data/affine/SR_031_BRIC1_V0_affine.mat\")\n",
    "print(merge_scan.shape)\n",
    "plot(merge_scan[0], index=70)\n",
    "plot(merge_scan[1], index=70)\n",
    "plot(merge_scan[2], index=70)\n",
    "# animate(merge_scan[0], dim=1, filename='t1_dim1.mp4')"
   ]
  },
  {
   "cell_type": "code",
   "execution_count": null,
   "metadata": {
    "pycharm": {
     "name": "#%%\n"
    }
   },
   "outputs": [],
   "source": [
    "scan = load_mat(\"../data/warp/SR_002_NHSRI_V1.mat\")\n",
    "print(scan.shape)\n",
    "index = 70\n",
    "plot(scan[0], index=index)\n",
    "plot(scan[1], index=index)\n",
    "plot(scan[2], index=index)"
   ]
  },
  {
   "cell_type": "markdown",
   "metadata": {
    "collapsed": false,
    "pycharm": {
     "name": "#%% md\n"
    }
   },
   "source": [
    "Make side-by-side comparison animation"
   ]
  },
  {
   "cell_type": "code",
   "execution_count": null,
   "metadata": {
    "collapsed": false,
    "pycharm": {
     "name": "#%%\n"
    }
   },
   "outputs": [],
   "source": [
    "# select FLAIR\n",
    "lr, sr, hr = (\n",
    "    load_mat(\"../data/affine/SR_002_NHSRI_V0_affine.mat\")[0],\n",
    "    load_mat(\"../runs/003_agunet_16f_gelu/scans/SR_002_NHSRI.mat\")[0],\n",
    "    load_mat(\"../data/affine/SR_002_NHSRI_V1_affine.mat\")[0],\n",
    ")"
   ]
  },
  {
   "cell_type": "code",
   "execution_count": null,
   "metadata": {
    "collapsed": false,
    "pycharm": {
     "name": "#%%\n"
    }
   },
   "outputs": [],
   "source": [
    "figure, axes = plt.subplots(\n",
    "    nrows=1,\n",
    "    ncols=3,\n",
    "    figsize=(8, 3.5),\n",
    "    gridspec_kw={\n",
    "        \"wspace\": 0.05,\n",
    "    },\n",
    "    dpi=240,\n",
    "    facecolor=\"white\",\n",
    ")\n",
    "\n",
    "camera = Camera(figure)\n",
    "\n",
    "PAD = 4\n",
    "axes[0].set_title(\"true low-resolution\", pad=PAD)\n",
    "axes[1].set_title(\"super-resolution\", pad=PAD)\n",
    "axes[2].set_title(\"true high-resolution\", pad=PAD)\n",
    "for ax in axes:\n",
    "    remove_spines(axis=ax)\n",
    "    remove_ticks(axis=ax)\n",
    "\n",
    "for s in range(lr.shape[1]):\n",
    "    axes[0].imshow(lr[:, s, :], cmap=\"gray\", interpolation=\"none\", aspect=\"equal\")\n",
    "    axes[1].imshow(sr[:, s, :], cmap=\"gray\", interpolation=\"none\", aspect=\"equal\")\n",
    "    axes[2].imshow(hr[:, s, :], cmap=\"gray\", interpolation=\"none\", aspect=\"equal\")\n",
    "    camera.snap()\n",
    "\n",
    "animation = camera.animate()\n",
    "animation.save(\n",
    "    \"animation.gif\",\n",
    "    fps=8,\n",
    "    dpi=240,\n",
    "    savefig_kwargs={\n",
    "        \"pad_inches\": 0,\n",
    "    },\n",
    ")"
   ]
  },
  {
   "cell_type": "code",
   "execution_count": null,
   "metadata": {
    "collapsed": false,
    "pycharm": {
     "name": "#%%\n"
    }
   },
   "outputs": [],
   "source": []
  }
 ],
 "metadata": {
  "colab": {
   "name": "visualize_MRI_mat.ipynb",
   "provenance": []
  },
  "kernelspec": {
   "display_name": "Python 3.8.13 ('base')",
   "language": "python",
   "name": "python3"
  },
  "language_info": {
   "codemirror_mode": {
    "name": "ipython",
    "version": 3
   },
   "file_extension": ".py",
   "mimetype": "text/x-python",
   "name": "python",
   "nbconvert_exporter": "python",
   "pygments_lexer": "ipython3",
   "version": "3.8.13"
  },
  "vscode": {
   "interpreter": {
    "hash": "e03fdb0ab04e9cf180b4a27f5a9bbd2c25c46732d9c40949ef9310df5ae3d2fd"
   }
  }
 },
 "nbformat": 4,
 "nbformat_minor": 2
}
